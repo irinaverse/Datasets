{
 "cells": [
  {
   "cell_type": "code",
   "execution_count": 1,
   "id": "8ac2fd9a",
   "metadata": {},
   "outputs": [],
   "source": [
    "%matplotlib inline"
   ]
  },
  {
   "cell_type": "code",
   "execution_count": 2,
   "id": "3bc27ba9",
   "metadata": {},
   "outputs": [],
   "source": [
    "import numpy as np\n",
    "import pandas as pd\n",
    "import matplotlib.pyplot as plt"
   ]
  },
  {
   "cell_type": "markdown",
   "id": "dd975002",
   "metadata": {},
   "source": [
    "<p style = \"font-size: 27px; text-align: right; color: darkturquoise\" > Weather Data"
   ]
  },
  {
   "cell_type": "markdown",
   "id": "1e2a754f",
   "metadata": {},
   "source": [
    "<p style = \"font-size: 15px; text-align: right; color: darkturquoise\" > August 2024, written by Irina Nedyalkova"
   ]
  },
  {
   "cell_type": "code",
   "execution_count": 3,
   "id": "b000394e",
   "metadata": {},
   "outputs": [],
   "source": [
    "WEATHER_DATA = pd.read_csv(\"weather_data.csv\")"
   ]
  },
  {
   "cell_type": "code",
   "execution_count": 4,
   "id": "3f24640c",
   "metadata": {},
   "outputs": [
    {
     "data": {
      "text/plain": [
       "Index(['Date/Time', 'Temp_C', 'Dew Point Temp_C', 'Rel Hum_%',\n",
       "       'Wind Speed_km/h', 'Visibility_km', 'Press_kPa', 'Weather'],\n",
       "      dtype='object')"
      ]
     },
     "execution_count": 4,
     "metadata": {},
     "output_type": "execute_result"
    }
   ],
   "source": [
    "WEATHER_DATA.columns"
   ]
  },
  {
   "cell_type": "markdown",
   "id": "3535bc83",
   "metadata": {},
   "source": [
    "- First, I take a look at the data.\n",
    "- Second, I wrap it in a global variable (capital letters).\n",
    "- Third, I see what columns do we have...\n",
    "- For this project, I decide to drop some of the columns and work with just 4 of them."
   ]
  },
  {
   "cell_type": "code",
   "execution_count": 5,
   "id": "8f92e609",
   "metadata": {},
   "outputs": [],
   "source": [
    "df_weather = WEATHER_DATA.drop(axis = 1, columns = [\"Dew Point Temp_C\", \"Rel Hum_%\", \"Visibility_km\", \"Press_kPa\"]) "
   ]
  },
  {
   "cell_type": "markdown",
   "id": "9f02ebc0",
   "metadata": {},
   "source": [
    "I make a new dataframe. Here comes the importance of the global variable. Always know which your original dataframe is!"
   ]
  },
  {
   "cell_type": "code",
   "execution_count": 6,
   "id": "fd4c9b13",
   "metadata": {},
   "outputs": [],
   "source": [
    "date_time = df_weather[\"Date/Time\"]                                       # original Date/Time column\n",
    "\n",
    "df_DT = pd.DataFrame(date_time)"
   ]
  },
  {
   "cell_type": "markdown",
   "id": "18dc6234",
   "metadata": {},
   "source": [
    "I prefer to have clarity and take out just the column I want to split, the \"Date/Time\" column. "
   ]
  },
  {
   "cell_type": "code",
   "execution_count": 7,
   "id": "eebb75c6",
   "metadata": {},
   "outputs": [],
   "source": [
    "date = pd.to_datetime(df_DT[\"Date/Time\"]).dt.date                      # split to Date column\n",
    "\n",
    "just_dates = pd.DataFrame(date)                                     "
   ]
  },
  {
   "cell_type": "code",
   "execution_count": 8,
   "id": "5e72f216",
   "metadata": {},
   "outputs": [],
   "source": [
    "time = pd.to_datetime(df_DT[\"Date/Time\"]).dt.time                    # split to Time column\n",
    "\n",
    "just_time = pd.DataFrame(time)                                     "
   ]
  },
  {
   "cell_type": "markdown",
   "id": "99dc7eb7",
   "metadata": {},
   "source": [
    "I keep the variables closed, because GitHub shows them in Large, and the data takes up too much space."
   ]
  },
  {
   "cell_type": "code",
   "execution_count": 9,
   "id": "ea2206d8",
   "metadata": {},
   "outputs": [],
   "source": [
    "date_column = just_dates.rename(columns = {\"Date/Time\": \"Date\"})"
   ]
  },
  {
   "cell_type": "code",
   "execution_count": 10,
   "id": "3d98774c",
   "metadata": {},
   "outputs": [],
   "source": [
    "time_column = just_time.rename(columns = {\"Date/Time\": \"Time\"})"
   ]
  },
  {
   "cell_type": "markdown",
   "id": "fd5bb965",
   "metadata": {},
   "source": [
    "Above, renamed the columns just as $Date$ and $Time$."
   ]
  },
  {
   "cell_type": "code",
   "execution_count": 11,
   "id": "0ec9fab7",
   "metadata": {},
   "outputs": [],
   "source": [
    "working_df = df_weather.drop(axis = 1, columns = \"Date/Time\")"
   ]
  },
  {
   "cell_type": "markdown",
   "id": "1ff26f1d",
   "metadata": {},
   "source": [
    "I create, check for accuracy and wrap the data in a variable then."
   ]
  },
  {
   "cell_type": "code",
   "execution_count": 12,
   "id": "c97621fd",
   "metadata": {},
   "outputs": [],
   "source": [
    "working_df.insert(0, \"Date\", value = date_column)\n",
    "working_df.insert(1, \"Time\", value = time_column)"
   ]
  },
  {
   "cell_type": "code",
   "execution_count": 13,
   "id": "757d3c7b",
   "metadata": {},
   "outputs": [],
   "source": [
    "#working_df"
   ]
  },
  {
   "cell_type": "markdown",
   "id": "eb067c49",
   "metadata": {},
   "source": [
    "> Voila! My new DataFrame, which I will be working with, is ready! It has 5 columns and 8784 rows."
   ]
  },
  {
   "cell_type": "markdown",
   "id": "8074bb93",
   "metadata": {},
   "source": [
    "_____________________________________________________________________________________________________________________________"
   ]
  }
 ],
 "metadata": {
  "kernelspec": {
   "display_name": "Python 3 (ipykernel)",
   "language": "python",
   "name": "python3"
  },
  "language_info": {
   "codemirror_mode": {
    "name": "ipython",
    "version": 3
   },
   "file_extension": ".py",
   "mimetype": "text/x-python",
   "name": "python",
   "nbconvert_exporter": "python",
   "pygments_lexer": "ipython3",
   "version": "3.9.13"
  }
 },
 "nbformat": 4,
 "nbformat_minor": 5
}
