{
 "cells": [
  {
   "cell_type": "code",
   "execution_count": 1,
   "id": "160edd09",
   "metadata": {},
   "outputs": [],
   "source": [
    "%matplotlib inline"
   ]
  },
  {
   "cell_type": "code",
   "execution_count": 2,
   "id": "8737fb29",
   "metadata": {},
   "outputs": [],
   "source": [
    "import re\n",
    "import pandas as pd\n",
    "import numpy as np\n",
    "import matplotlib.pyplot as plt"
   ]
  },
  {
   "cell_type": "markdown",
   "id": "4f0d8cfa",
   "metadata": {},
   "source": [
    "<p style = \"font-size: 13px; text-align: right; color: darkslategray\" > written by Irina Nedyalkova"
   ]
  },
  {
   "cell_type": "markdown",
   "id": "20a8d530",
   "metadata": {},
   "source": [
    "<p style = \"font-size: 24px; text-align: center; color: darkslategray\" > My name is..."
   ]
  },
  {
   "cell_type": "markdown",
   "id": "e54d3847",
   "metadata": {},
   "source": [
    "The name of a human, a company or a project carries energy. We have the energy of sound, written energy (as the logo) and the energy of our ancestors (resides in our DNA). We have some sacred energy transiting when a man offers his name to a woman and she accepts it. We have the giving of a name to a newborn. We have the giving of a name to a start-up. It turns out we give new life to people, commitments and ideas. "
   ]
  },
  {
   "cell_type": "markdown",
   "id": "2a0d7c8a",
   "metadata": {},
   "source": [
    "I start with 2943 male names, collected in a file by Mark Kantrowitz (copyrighted set, see References). Following with female names."
   ]
  },
  {
   "cell_type": "code",
   "execution_count": 3,
   "id": "b6b043d7",
   "metadata": {},
   "outputs": [],
   "source": [
    "column_names = [\"names_m\"]\n",
    "df_male_names = pd.read_csv(\"male.txt\", names = column_names)"
   ]
  },
  {
   "cell_type": "code",
   "execution_count": 4,
   "id": "7a50b8f1",
   "metadata": {},
   "outputs": [
    {
     "data": {
      "text/html": [
       "<div>\n",
       "<style scoped>\n",
       "    .dataframe tbody tr th:only-of-type {\n",
       "        vertical-align: middle;\n",
       "    }\n",
       "\n",
       "    .dataframe tbody tr th {\n",
       "        vertical-align: top;\n",
       "    }\n",
       "\n",
       "    .dataframe thead th {\n",
       "        text-align: right;\n",
       "    }\n",
       "</style>\n",
       "<table border=\"1\" class=\"dataframe\">\n",
       "  <thead>\n",
       "    <tr style=\"text-align: right;\">\n",
       "      <th></th>\n",
       "      <th>names_m</th>\n",
       "    </tr>\n",
       "  </thead>\n",
       "  <tbody>\n",
       "    <tr>\n",
       "      <th>0</th>\n",
       "      <td>Aamir</td>\n",
       "    </tr>\n",
       "    <tr>\n",
       "      <th>1</th>\n",
       "      <td>Aaron</td>\n",
       "    </tr>\n",
       "    <tr>\n",
       "      <th>2</th>\n",
       "      <td>Abbey</td>\n",
       "    </tr>\n",
       "    <tr>\n",
       "      <th>3</th>\n",
       "      <td>Abbie</td>\n",
       "    </tr>\n",
       "    <tr>\n",
       "      <th>4</th>\n",
       "      <td>Abbot</td>\n",
       "    </tr>\n",
       "    <tr>\n",
       "      <th>...</th>\n",
       "      <td>...</td>\n",
       "    </tr>\n",
       "    <tr>\n",
       "      <th>2938</th>\n",
       "      <td>Zeus</td>\n",
       "    </tr>\n",
       "    <tr>\n",
       "      <th>2939</th>\n",
       "      <td>Zippy</td>\n",
       "    </tr>\n",
       "    <tr>\n",
       "      <th>2940</th>\n",
       "      <td>Zollie</td>\n",
       "    </tr>\n",
       "    <tr>\n",
       "      <th>2941</th>\n",
       "      <td>Zolly</td>\n",
       "    </tr>\n",
       "    <tr>\n",
       "      <th>2942</th>\n",
       "      <td>Zorro</td>\n",
       "    </tr>\n",
       "  </tbody>\n",
       "</table>\n",
       "<p>2943 rows × 1 columns</p>\n",
       "</div>"
      ],
      "text/plain": [
       "     names_m\n",
       "0      Aamir\n",
       "1      Aaron\n",
       "2      Abbey\n",
       "3      Abbie\n",
       "4      Abbot\n",
       "...      ...\n",
       "2938    Zeus\n",
       "2939   Zippy\n",
       "2940  Zollie\n",
       "2941   Zolly\n",
       "2942   Zorro\n",
       "\n",
       "[2943 rows x 1 columns]"
      ]
     },
     "execution_count": 4,
     "metadata": {},
     "output_type": "execute_result"
    }
   ],
   "source": [
    "df_male_names                # df is a DataFrame, just a name is a variable"
   ]
  },
  {
   "cell_type": "markdown",
   "id": "452f6299",
   "metadata": {},
   "source": [
    "Decide to separate the name column and work with it:"
   ]
  },
  {
   "cell_type": "code",
   "execution_count": 5,
   "id": "daa7dc6b",
   "metadata": {},
   "outputs": [],
   "source": [
    "column_names_m = df_male_names.names_m"
   ]
  },
  {
   "cell_type": "markdown",
   "id": "455137cb",
   "metadata": {},
   "source": [
    "I use regex, means Regular Expressions for searching and manipulating text strings, to note all names accordingly to their beginning letter (initial)."
   ]
  },
  {
   "cell_type": "code",
   "execution_count": 6,
   "id": "dcd6422a",
   "metadata": {},
   "outputs": [
    {
     "data": {
      "text/plain": [
       "(213, 1)"
      ]
     },
     "execution_count": 6,
     "metadata": {},
     "output_type": "execute_result"
    }
   ],
   "source": [
    "column_names_m.str.extractall(r\"(^A)+\").groupby(level = 0).agg(\" \".join).shape"
   ]
  },
  {
   "cell_type": "code",
   "execution_count": 7,
   "id": "7e31d9bc",
   "metadata": {},
   "outputs": [
    {
     "data": {
      "text/plain": [
       "(173, 1)"
      ]
     },
     "execution_count": 7,
     "metadata": {},
     "output_type": "execute_result"
    }
   ],
   "source": [
    "column_names_m.str.extractall(r\"(^B)+\").groupby(level = 0).agg(\" \".join).shape"
   ]
  },
  {
   "cell_type": "code",
   "execution_count": 8,
   "id": "f15f0436",
   "metadata": {},
   "outputs": [
    {
     "data": {
      "text/plain": [
       "(166, 1)"
      ]
     },
     "execution_count": 8,
     "metadata": {},
     "output_type": "execute_result"
    }
   ],
   "source": [
    "column_names_m.str.extractall(r\"(^C)+\").groupby(level = 0).agg(\" \".join).shape"
   ]
  },
  {
   "cell_type": "code",
   "execution_count": 9,
   "id": "487c005c",
   "metadata": {},
   "outputs": [
    {
     "data": {
      "text/plain": [
       "(146, 1)"
      ]
     },
     "execution_count": 9,
     "metadata": {},
     "output_type": "execute_result"
    }
   ],
   "source": [
    "column_names_m.str.extractall(r\"(^D)+\").groupby(level = 0).agg(\" \".join).shape"
   ]
  },
  {
   "cell_type": "code",
   "execution_count": 10,
   "id": "f326c17b",
   "metadata": {},
   "outputs": [
    {
     "data": {
      "text/plain": [
       "(119, 1)"
      ]
     },
     "execution_count": 10,
     "metadata": {},
     "output_type": "execute_result"
    }
   ],
   "source": [
    "column_names_m.str.extractall(r\"(^E)+\").groupby(level = 0).agg(\" \".join).shape"
   ]
  },
  {
   "cell_type": "code",
   "execution_count": 11,
   "id": "c016946f",
   "metadata": {},
   "outputs": [
    {
     "data": {
      "text/plain": [
       "(87, 1)"
      ]
     },
     "execution_count": 11,
     "metadata": {},
     "output_type": "execute_result"
    }
   ],
   "source": [
    "column_names_m.str.extractall(r\"(^F)+\").groupby(level = 0).agg(\" \".join).shape"
   ]
  },
  {
   "cell_type": "code",
   "execution_count": 12,
   "id": "c539ca35",
   "metadata": {},
   "outputs": [
    {
     "data": {
      "text/plain": [
       "(156, 1)"
      ]
     },
     "execution_count": 12,
     "metadata": {},
     "output_type": "execute_result"
    }
   ],
   "source": [
    "column_names_m.str.extractall(r\"(^G)+\").groupby(level = 0).agg(\" \".join).shape"
   ]
  },
  {
   "cell_type": "code",
   "execution_count": 13,
   "id": "73799a4b",
   "metadata": {},
   "outputs": [
    {
     "data": {
      "text/plain": [
       "(163, 1)"
      ]
     },
     "execution_count": 13,
     "metadata": {},
     "output_type": "execute_result"
    }
   ],
   "source": [
    "column_names_m.str.extractall(r\"(^H)+\").groupby(level = 0).agg(\" \".join).shape"
   ]
  },
  {
   "cell_type": "code",
   "execution_count": 14,
   "id": "26b0edf2",
   "metadata": {},
   "outputs": [
    {
     "data": {
      "text/plain": [
       "(45, 1)"
      ]
     },
     "execution_count": 14,
     "metadata": {},
     "output_type": "execute_result"
    }
   ],
   "source": [
    "column_names_m.str.extractall(r\"(^I)+\").groupby(level = 0).agg(\" \".join).shape"
   ]
  },
  {
   "cell_type": "code",
   "execution_count": 15,
   "id": "2d68e412",
   "metadata": {},
   "outputs": [
    {
     "data": {
      "text/plain": [
       "(144, 1)"
      ]
     },
     "execution_count": 15,
     "metadata": {},
     "output_type": "execute_result"
    }
   ],
   "source": [
    "column_names_m.str.extractall(r\"(^J)+\").groupby(level = 0).agg(\" \".join).shape"
   ]
  },
  {
   "cell_type": "code",
   "execution_count": 16,
   "id": "756f98b2",
   "metadata": {},
   "outputs": [
    {
     "data": {
      "text/plain": [
       "(70, 1)"
      ]
     },
     "execution_count": 16,
     "metadata": {},
     "output_type": "execute_result"
    }
   ],
   "source": [
    "column_names_m.str.extractall(r\"(^K)+\").groupby(level = 0).agg(\" \".join).shape"
   ]
  },
  {
   "cell_type": "code",
   "execution_count": 17,
   "id": "337e759e",
   "metadata": {},
   "outputs": [
    {
     "data": {
      "text/plain": [
       "(113, 1)"
      ]
     },
     "execution_count": 17,
     "metadata": {},
     "output_type": "execute_result"
    }
   ],
   "source": [
    "column_names_m.str.extractall(r\"(^L)+\").groupby(level = 0).agg(\" \".join).shape"
   ]
  },
  {
   "cell_type": "code",
   "execution_count": 18,
   "id": "e58ed58d",
   "metadata": {},
   "outputs": [
    {
     "data": {
      "text/plain": [
       "(200, 1)"
      ]
     },
     "execution_count": 18,
     "metadata": {},
     "output_type": "execute_result"
    }
   ],
   "source": [
    "column_names_m.str.extractall(r\"(^M)+\").groupby(level = 0).agg(\" \".join).shape"
   ]
  },
  {
   "cell_type": "code",
   "execution_count": 19,
   "id": "8f9ab4b8",
   "metadata": {},
   "outputs": [
    {
     "data": {
      "text/plain": [
       "(77, 1)"
      ]
     },
     "execution_count": 19,
     "metadata": {},
     "output_type": "execute_result"
    }
   ],
   "source": [
    "column_names_m.str.extractall(r\"(^N)+\").groupby(level = 0).agg(\" \".join).shape"
   ]
  },
  {
   "cell_type": "code",
   "execution_count": 20,
   "id": "a8cd8080",
   "metadata": {},
   "outputs": [
    {
     "data": {
      "text/plain": [
       "(52, 1)"
      ]
     },
     "execution_count": 20,
     "metadata": {},
     "output_type": "execute_result"
    }
   ],
   "source": [
    "column_names_m.str.extractall(r\"(^O)+\").groupby(level = 0).agg(\" \".join).shape"
   ]
  },
  {
   "cell_type": "code",
   "execution_count": 21,
   "id": "a66adc78",
   "metadata": {},
   "outputs": [
    {
     "data": {
      "text/plain": [
       "(101, 1)"
      ]
     },
     "execution_count": 21,
     "metadata": {},
     "output_type": "execute_result"
    }
   ],
   "source": [
    "column_names_m.str.extractall(r\"(^P)+\").groupby(level = 0).agg(\" \".join).shape"
   ]
  },
  {
   "cell_type": "code",
   "execution_count": 22,
   "id": "66bb8bf8",
   "metadata": {},
   "outputs": [
    {
     "data": {
      "text/plain": [
       "(15, 1)"
      ]
     },
     "execution_count": 22,
     "metadata": {},
     "output_type": "execute_result"
    }
   ],
   "source": [
    "column_names_m.str.extractall(r\"(^Q)+\").groupby(level = 0).agg(\" \".join).shape"
   ]
  },
  {
   "cell_type": "code",
   "execution_count": 23,
   "id": "928267b6",
   "metadata": {},
   "outputs": [
    {
     "data": {
      "text/plain": [
       "(200, 1)"
      ]
     },
     "execution_count": 23,
     "metadata": {},
     "output_type": "execute_result"
    }
   ],
   "source": [
    "column_names_m.str.extractall(r\"(^R)+\").groupby(level = 0).agg(\" \".join).shape"
   ]
  },
  {
   "cell_type": "code",
   "execution_count": 24,
   "id": "b17e8c29",
   "metadata": {},
   "outputs": [
    {
     "data": {
      "text/plain": [
       "(238, 1)"
      ]
     },
     "execution_count": 24,
     "metadata": {},
     "output_type": "execute_result"
    }
   ],
   "source": [
    "column_names_m.str.extractall(r\"(^S)+\").groupby(level = 0).agg(\" \".join).shape"
   ]
  },
  {
   "cell_type": "code",
   "execution_count": 25,
   "id": "52faab44",
   "metadata": {},
   "outputs": [
    {
     "data": {
      "text/plain": [
       "(188, 1)"
      ]
     },
     "execution_count": 25,
     "metadata": {},
     "output_type": "execute_result"
    }
   ],
   "source": [
    "column_names_m.str.extractall(r\"(^T)+\").groupby(level = 0).agg(\" \".join).shape"
   ]
  },
  {
   "cell_type": "code",
   "execution_count": 26,
   "id": "6fbcffde",
   "metadata": {},
   "outputs": [
    {
     "data": {
      "text/plain": [
       "(22, 1)"
      ]
     },
     "execution_count": 26,
     "metadata": {},
     "output_type": "execute_result"
    }
   ],
   "source": [
    "column_names_m.str.extractall(r\"(^U)+\").groupby(level = 0).agg(\" \".join).shape"
   ]
  },
  {
   "cell_type": "code",
   "execution_count": 27,
   "id": "31164b3d",
   "metadata": {},
   "outputs": [
    {
     "data": {
      "text/plain": [
       "(50, 1)"
      ]
     },
     "execution_count": 27,
     "metadata": {},
     "output_type": "execute_result"
    }
   ],
   "source": [
    "column_names_m.str.extractall(r\"(^V)+\").groupby(level = 0).agg(\" \".join).shape"
   ]
  },
  {
   "cell_type": "code",
   "execution_count": 28,
   "id": "8278da1e",
   "metadata": {},
   "outputs": [
    {
     "data": {
      "text/plain": [
       "(151, 1)"
      ]
     },
     "execution_count": 28,
     "metadata": {},
     "output_type": "execute_result"
    }
   ],
   "source": [
    "column_names_m.str.extractall(r\"(^W)+\").groupby(level = 0).agg(\" \".join).shape"
   ]
  },
  {
   "cell_type": "code",
   "execution_count": 29,
   "id": "3fb6ecb9",
   "metadata": {},
   "outputs": [
    {
     "data": {
      "text/plain": [
       "(7, 1)"
      ]
     },
     "execution_count": 29,
     "metadata": {},
     "output_type": "execute_result"
    }
   ],
   "source": [
    "column_names_m.str.extractall(r\"(^X)+\").groupby(level = 0).agg(\" \".join).shape"
   ]
  },
  {
   "cell_type": "code",
   "execution_count": 30,
   "id": "f3036ce2",
   "metadata": {},
   "outputs": [
    {
     "data": {
      "text/plain": [
       "(16, 1)"
      ]
     },
     "execution_count": 30,
     "metadata": {},
     "output_type": "execute_result"
    }
   ],
   "source": [
    "column_names_m.str.extractall(r\"(^Y)+\").groupby(level = 0).agg(\" \".join).shape"
   ]
  },
  {
   "cell_type": "code",
   "execution_count": 31,
   "id": "f38535b4",
   "metadata": {},
   "outputs": [
    {
     "data": {
      "text/plain": [
       "(31, 1)"
      ]
     },
     "execution_count": 31,
     "metadata": {},
     "output_type": "execute_result"
    }
   ],
   "source": [
    "column_names_m.str.extractall(r\"(^Z)+\").groupby(level = 0).agg(\" \".join).shape"
   ]
  },
  {
   "cell_type": "markdown",
   "id": "35b4b521",
   "metadata": {},
   "source": [
    "In alphabetical order the dataset includes:\n",
    "- male names, starting with an A: 213\n",
    "- male names, starting with a B: 173\n",
    "- male names, starting with C: 166\n",
    "- male names, starting with D: 146\n",
    "- male names, starting with E: 119\n",
    "- male names, starting with F: 87\n",
    "- male names, starting with G: 156\n",
    "- male names, starting with H: 163\n",
    "- male names, starting with an I: 45\n",
    "- male names, starting wih an J: 144\n",
    "- male names, starting with K: 70\n",
    "- male names, starting with L: 113\n",
    "- male names, starting with M: 200\n",
    "- male names, starting with N: 77\n",
    "- male names, starting with an O: 52\n",
    "- male names, starting with a P: 101\n",
    "- male names, starting with Q: 15\n",
    "- male names, starting with R: 200\n",
    "- male names, starting with S: 238\n",
    "- male names, starting with T: 188\n",
    "- male names, starting with an U: 22\n",
    "- male names, starting with a V: 50\n",
    "- male names, starting with a W: 151\n",
    "- male names, starting with a X: 7\n",
    "- male names, starting with Y: 16\n",
    "- male names, starting with Z: 31"
   ]
  },
  {
   "cell_type": "markdown",
   "id": "d149fd4c",
   "metadata": {},
   "source": [
    "I make a dictionary which becomes a pandas dataframe:"
   ]
  },
  {
   "cell_type": "code",
   "execution_count": 32,
   "id": "392d63ed",
   "metadata": {},
   "outputs": [],
   "source": [
    "male_names_in_alphabet = {\"Initial\":[\"A\", \"B\", \"C\", \"D\", \"E\", \"F\", \"G\", \"H\", \"I\", \"J\", \"K\", \"L\", \"M\", \"N\",\n",
    "                                             \"O\", \"P\", \"Q\", \"R\", \"S\", \"T\", \"U\", \"V\", \"W\", \"X\", \"Y\", \"Z\"],\n",
    "                                \"quantity\":[213, 173, 166, 146, 119, 87, 156, 163, 45, 144, 70, 113, 200, 77,\n",
    "                                            52, 101, 15, 200, 238, 188, 22, 50, 151, 7, 16, 31]}"
   ]
  },
  {
   "cell_type": "code",
   "execution_count": 33,
   "id": "322394c8",
   "metadata": {
    "scrolled": true
   },
   "outputs": [
    {
     "data": {
      "text/plain": [
       "(26, 2)"
      ]
     },
     "execution_count": 33,
     "metadata": {},
     "output_type": "execute_result"
    }
   ],
   "source": [
    "pd.DataFrame(male_names_in_alphabet).shape        # checking size"
   ]
  },
  {
   "cell_type": "code",
   "execution_count": 34,
   "id": "6ccef4d7",
   "metadata": {},
   "outputs": [],
   "source": [
    "df_initials_male = pd.DataFrame(male_names_in_alphabet)"
   ]
  },
  {
   "cell_type": "markdown",
   "id": "1d98733d",
   "metadata": {},
   "source": [
    "All my variables, starting with a \"df\", are speaking of a DataFrame:"
   ]
  },
  {
   "cell_type": "code",
   "execution_count": 35,
   "id": "4a961657",
   "metadata": {},
   "outputs": [
    {
     "data": {
      "text/html": [
       "<div>\n",
       "<style scoped>\n",
       "    .dataframe tbody tr th:only-of-type {\n",
       "        vertical-align: middle;\n",
       "    }\n",
       "\n",
       "    .dataframe tbody tr th {\n",
       "        vertical-align: top;\n",
       "    }\n",
       "\n",
       "    .dataframe thead th {\n",
       "        text-align: right;\n",
       "    }\n",
       "</style>\n",
       "<table border=\"1\" class=\"dataframe\">\n",
       "  <thead>\n",
       "    <tr style=\"text-align: right;\">\n",
       "      <th></th>\n",
       "      <th>Initial</th>\n",
       "      <th>quantity</th>\n",
       "    </tr>\n",
       "  </thead>\n",
       "  <tbody>\n",
       "    <tr>\n",
       "      <th>0</th>\n",
       "      <td>A</td>\n",
       "      <td>213</td>\n",
       "    </tr>\n",
       "    <tr>\n",
       "      <th>1</th>\n",
       "      <td>B</td>\n",
       "      <td>173</td>\n",
       "    </tr>\n",
       "    <tr>\n",
       "      <th>2</th>\n",
       "      <td>C</td>\n",
       "      <td>166</td>\n",
       "    </tr>\n",
       "    <tr>\n",
       "      <th>3</th>\n",
       "      <td>D</td>\n",
       "      <td>146</td>\n",
       "    </tr>\n",
       "    <tr>\n",
       "      <th>4</th>\n",
       "      <td>E</td>\n",
       "      <td>119</td>\n",
       "    </tr>\n",
       "    <tr>\n",
       "      <th>5</th>\n",
       "      <td>F</td>\n",
       "      <td>87</td>\n",
       "    </tr>\n",
       "    <tr>\n",
       "      <th>6</th>\n",
       "      <td>G</td>\n",
       "      <td>156</td>\n",
       "    </tr>\n",
       "    <tr>\n",
       "      <th>7</th>\n",
       "      <td>H</td>\n",
       "      <td>163</td>\n",
       "    </tr>\n",
       "    <tr>\n",
       "      <th>8</th>\n",
       "      <td>I</td>\n",
       "      <td>45</td>\n",
       "    </tr>\n",
       "    <tr>\n",
       "      <th>9</th>\n",
       "      <td>J</td>\n",
       "      <td>144</td>\n",
       "    </tr>\n",
       "    <tr>\n",
       "      <th>10</th>\n",
       "      <td>K</td>\n",
       "      <td>70</td>\n",
       "    </tr>\n",
       "    <tr>\n",
       "      <th>11</th>\n",
       "      <td>L</td>\n",
       "      <td>113</td>\n",
       "    </tr>\n",
       "    <tr>\n",
       "      <th>12</th>\n",
       "      <td>M</td>\n",
       "      <td>200</td>\n",
       "    </tr>\n",
       "    <tr>\n",
       "      <th>13</th>\n",
       "      <td>N</td>\n",
       "      <td>77</td>\n",
       "    </tr>\n",
       "    <tr>\n",
       "      <th>14</th>\n",
       "      <td>O</td>\n",
       "      <td>52</td>\n",
       "    </tr>\n",
       "    <tr>\n",
       "      <th>15</th>\n",
       "      <td>P</td>\n",
       "      <td>101</td>\n",
       "    </tr>\n",
       "    <tr>\n",
       "      <th>16</th>\n",
       "      <td>Q</td>\n",
       "      <td>15</td>\n",
       "    </tr>\n",
       "    <tr>\n",
       "      <th>17</th>\n",
       "      <td>R</td>\n",
       "      <td>200</td>\n",
       "    </tr>\n",
       "    <tr>\n",
       "      <th>18</th>\n",
       "      <td>S</td>\n",
       "      <td>238</td>\n",
       "    </tr>\n",
       "    <tr>\n",
       "      <th>19</th>\n",
       "      <td>T</td>\n",
       "      <td>188</td>\n",
       "    </tr>\n",
       "    <tr>\n",
       "      <th>20</th>\n",
       "      <td>U</td>\n",
       "      <td>22</td>\n",
       "    </tr>\n",
       "    <tr>\n",
       "      <th>21</th>\n",
       "      <td>V</td>\n",
       "      <td>50</td>\n",
       "    </tr>\n",
       "    <tr>\n",
       "      <th>22</th>\n",
       "      <td>W</td>\n",
       "      <td>151</td>\n",
       "    </tr>\n",
       "    <tr>\n",
       "      <th>23</th>\n",
       "      <td>X</td>\n",
       "      <td>7</td>\n",
       "    </tr>\n",
       "    <tr>\n",
       "      <th>24</th>\n",
       "      <td>Y</td>\n",
       "      <td>16</td>\n",
       "    </tr>\n",
       "    <tr>\n",
       "      <th>25</th>\n",
       "      <td>Z</td>\n",
       "      <td>31</td>\n",
       "    </tr>\n",
       "  </tbody>\n",
       "</table>\n",
       "</div>"
      ],
      "text/plain": [
       "   Initial  quantity\n",
       "0        A       213\n",
       "1        B       173\n",
       "2        C       166\n",
       "3        D       146\n",
       "4        E       119\n",
       "5        F        87\n",
       "6        G       156\n",
       "7        H       163\n",
       "8        I        45\n",
       "9        J       144\n",
       "10       K        70\n",
       "11       L       113\n",
       "12       M       200\n",
       "13       N        77\n",
       "14       O        52\n",
       "15       P       101\n",
       "16       Q        15\n",
       "17       R       200\n",
       "18       S       238\n",
       "19       T       188\n",
       "20       U        22\n",
       "21       V        50\n",
       "22       W       151\n",
       "23       X         7\n",
       "24       Y        16\n",
       "25       Z        31"
      ]
     },
     "execution_count": 35,
     "metadata": {},
     "output_type": "execute_result"
    }
   ],
   "source": [
    "df_initials_male"
   ]
  },
  {
   "cell_type": "markdown",
   "id": "7892598d",
   "metadata": {},
   "source": [
    "Other variables show a column or something more specific:"
   ]
  },
  {
   "cell_type": "code",
   "execution_count": 36,
   "id": "8e89e50f",
   "metadata": {},
   "outputs": [],
   "source": [
    "initials_male = df_initials_male.Initial"
   ]
  },
  {
   "cell_type": "code",
   "execution_count": 37,
   "id": "a60f1904",
   "metadata": {},
   "outputs": [],
   "source": [
    "quantity_initials_male = df_initials_male.quantity"
   ]
  },
  {
   "cell_type": "markdown",
   "id": "82500f36",
   "metadata": {},
   "source": [
    "Checking the sum of all names after the transition of data, must be 2943:"
   ]
  },
  {
   "cell_type": "code",
   "execution_count": 38,
   "id": "c15ad34d",
   "metadata": {},
   "outputs": [
    {
     "data": {
      "text/plain": [
       "2943"
      ]
     },
     "execution_count": 38,
     "metadata": {},
     "output_type": "execute_result"
    }
   ],
   "source": [
    "quantity_initials_male.sum()  "
   ]
  },
  {
   "cell_type": "markdown",
   "id": "1de46778",
   "metadata": {},
   "source": [
    "And here is the data visualization:"
   ]
  },
  {
   "cell_type": "code",
   "execution_count": 39,
   "id": "2bc0c229",
   "metadata": {},
   "outputs": [
    {
     "data": {
      "image/png": "[encoded data removed]",
      "text/plain": [
       "<Figure size 640x480 with 1 Axes>"
      ]
     },
     "metadata": {},
     "output_type": "display_data"
    }
   ],
   "source": [
    "fig, ax = plt.subplots()\n",
    "\n",
    "ax.bar(initials_male, quantity_initials_male, width = 0.5, color = \"cadetblue\")\n",
    "ax.set_ylim(0, 250)\n",
    "\n",
    "ax.spines['bottom'].set_color(\"ghostwhite\")\n",
    "ax.spines['top'].set_color(\"ghostwhite\") \n",
    "ax.spines['right'].set_color(\"cadetblue\")\n",
    "ax.spines['left'].set_color(\"cadetblue\")\n",
    "\n",
    "ax.set_ylabel(\"Quantity\", size = 9)\n",
    "ax.set_title(\"Quantity of male names accordingly to their Initials\", size = 10, pad = 10)\n",
    "\n",
    "plt.show()"
   ]
  },
  {
   "cell_type": "code",
   "execution_count": 40,
   "id": "b8600621",
   "metadata": {},
   "outputs": [
    {
     "data": {
      "text/plain": [
       "[7, 238]"
      ]
     },
     "execution_count": 40,
     "metadata": {},
     "output_type": "execute_result"
    }
   ],
   "source": [
    "[quantity_initials_male.min(), quantity_initials_male.max()]         # checking the y-axis scale "
   ]
  },
  {
   "cell_type": "markdown",
   "id": "7b558b12",
   "metadata": {},
   "source": [
    "> Most of the male names are beginning with the letter $S$ and at least they begin with a $X$"
   ]
  },
  {
   "cell_type": "markdown",
   "id": "72e30b9a",
   "metadata": {},
   "source": [
    "But let us see what are these male names beginning with a $X$ and perhaps we do a X, Y, Z: most used letters in mathematics."
   ]
  },
  {
   "cell_type": "markdown",
   "id": "1286cc6f",
   "metadata": {},
   "source": [
    "Even though it is one of the least-used letters in the English alphabet, $X$ appears plenty throughout our lifes – from the $X$-Men superheroes to “The $X$-Files” TV series. The letter $X$ often symbolizes something unknown, with an air of mystery... Just look at Elon Musk with Space$X$ and Tesla’s Model $X$, and $X$ as a new name for Twitter. Elon even calls his son $X$ /iks/ whose real name is \"XÆA-12\"."
   ]
  },
  {
   "cell_type": "markdown",
   "id": "930c8271",
   "metadata": {},
   "source": [
    "The letter $X$ is key to modern algebra and matrices but all ancient algebra was rhetorical - mathematical problems and solutions were completely written out in words as part of a little story. Mathematical know-how developed somewhat independently in many lands and in many languages. "
   ]
  },
  {
   "cell_type": "markdown",
   "id": "a4c05e91",
   "metadata": {},
   "source": [
    "One theory of $X$ as the unknown in modern algebra points to the Islamic roots. The theory contends that the Arabic word used for the quantity being sought was \"al-shayun\", meaning “something,” which was shortened to the symbol for its first “sh” sound. European scholars represented this sound by the Greek letter $\\chi$, which later became the Latin $X$. It is not unusual for mathematical expressions to occur through convoluted translations."
   ]
  },
  {
   "cell_type": "markdown",
   "id": "c86768f0",
   "metadata": {},
   "source": [
    "Yet, probably, the most plausible explanation is to credit the influential French scholar René Descartes for the use of $X$. For unspecified constants he chose the first few letters of the alphabet, and for variables he chose the last letters in reverse order (you can see in the df_initials_male above)."
   ]
  },
  {
   "cell_type": "markdown",
   "id": "0b09688a",
   "metadata": {},
   "source": [
    "<p style = \"font-size: 15px; text-align: left; color: gray\" > (more will follow shortly)"
   ]
  },
  {
   "cell_type": "markdown",
   "id": "21ca69b6",
   "metadata": {},
   "source": [
    "________________________________________________________________________________________________________________________________"
   ]
  },
  {
   "cell_type": "markdown",
   "id": "91196f96",
   "metadata": {},
   "source": [
    "References:\n",
    "1. Data is from Kaggle Database:\n",
    "- Names Corpus, Version 1.3 (1994-03-29)\n",
    "Copyright (c) January 1991 by Mark Kantrowitz, Additions by Bill Ross\n",
    "2. Peter Schumer, professor of Mathematics and Natural Philosophy at Middlebury College:\n",
    "- https://www.scientificamerican.com/article/mysterious-origins-of-x-in-algebra/"
   ]
  }
 ],
 "metadata": {
  "kernelspec": {
   "display_name": "Python 3 (ipykernel)",
   "language": "python",
   "name": "python3"
  },
  "language_info": {
   "codemirror_mode": {
    "name": "ipython",
    "version": 3
   },
   "file_extension": ".py",
   "mimetype": "text/x-python",
   "name": "python",
   "nbconvert_exporter": "python",
   "pygments_lexer": "ipython3",
   "version": "3.9.13"
  }
 },
 "nbformat": 4,
 "nbformat_minor": 5
}
